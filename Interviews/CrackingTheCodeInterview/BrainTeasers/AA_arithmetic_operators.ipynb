{
 "cells": [
  {
   "cell_type": "markdown",
   "metadata": {},
   "source": [
    "## Problem\n",
    "\n",
    "Add arithmetic operators (plus, minus, times, divide) to make the following \n",
    "expression true: 3 1 3 6 = 8. You can use any parentheses you’d like."
   ]
  },
  {
   "cell_type": "markdown",
   "metadata": {},
   "source": [
    "### Understanding the problem"
   ]
  },
  {
   "cell_type": "markdown",
   "metadata": {},
   "source": [
    "- Times is multiplication.\n",
    "- There are a even number of numbers, and the results is a even number.\n",
    "- There are 3 odd numbers (3, 1, 3, 6) and 1 even number."
   ]
  },
  {
   "cell_type": "markdown",
   "metadata": {},
   "source": [
    "### My approach\n",
    "- First I checked the possibilities when two groups are sum, only even+even and odd+odd works. I didn't find a solution with that.\n",
    "- Then I checked when the two groups are divided, I mean (3 1) / (3 6) = 8\n",
    "    - I found that (3+1) / (3/6) = 8 works."
   ]
  },
  {
   "cell_type": "markdown",
   "metadata": {},
   "source": [
    "### The suggested approach"
   ]
  },
  {
   "cell_type": "markdown",
   "metadata": {},
   "source": [
    "The suggested approach is to think about basic operations that generaetes the result, such as:\n",
    "\n",
    "`4 * 2 = 8`\n",
    "\n",
    "So the problem boils down to found the operations that generates the 4 and 2.\n",
    "\n",
    "`(3+1) * (6 / 3) = 8`\n",
    "\n",
    "The bad thing about this solution, I think, it's that they flipped the 3 and 6, so the divide operations works."
   ]
  }
 ],
 "metadata": {
  "language_info": {
   "name": "python"
  },
  "orig_nbformat": 4
 },
 "nbformat": 4,
 "nbformat_minor": 2
}

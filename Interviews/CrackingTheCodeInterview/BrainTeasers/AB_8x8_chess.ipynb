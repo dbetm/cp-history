{
 "cells": [
  {
   "cell_type": "markdown",
   "metadata": {},
   "source": [
    "## Problem\n",
    "\n",
    "There is an 8x8 chess board in which two diagonally opposite corners have been cut\n",
    "off. You are given 31 dominos, and a single domino can cover exactly two squares.\n",
    "Can you use the 31 dominos to cover the entire board?"
   ]
  },
  {
   "cell_type": "markdown",
   "metadata": {},
   "source": [
    "### Understanding the problem"
   ]
  },
  {
   "cell_type": "markdown",
   "metadata": {},
   "source": [
    "- There is 64 squares, 32 are black (supossing) and 32 are white.\n",
    "- The opposite corners are of the same color.\n",
    "- A domino always cover a black square and a white one."
   ]
  },
  {
   "cell_type": "markdown",
   "metadata": {},
   "source": [
    "### My approach\n",
    "\n",
    "Given that two squares have been cut off, so 31 dominos should cover 31 squares of one color and 31 of another color, but because the two squares missing have the same color, now we have only 30 squares of the color of those missing ones.\n",
    "\n",
    "So, the answer is No."
   ]
  },
  {
   "cell_type": "markdown",
   "metadata": {},
   "source": [
    "### The suggested approach"
   ]
  },
  {
   "cell_type": "markdown",
   "metadata": {},
   "source": [
    "Quite similar sol. "
   ]
  }
 ],
 "metadata": {
  "language_info": {
   "name": "python"
  },
  "orig_nbformat": 4
 },
 "nbformat": 4,
 "nbformat_minor": 2
}

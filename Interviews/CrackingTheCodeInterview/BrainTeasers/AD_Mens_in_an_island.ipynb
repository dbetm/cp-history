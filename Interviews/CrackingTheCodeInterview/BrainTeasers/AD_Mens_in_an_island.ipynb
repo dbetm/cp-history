{
 "cells": [
  {
   "attachments": {},
   "cell_type": "markdown",
   "metadata": {},
   "source": [
    "## Problem\n",
    "\n",
    "There are n people in an island. A genie comes down and places a magical hat at some people's head. At least it did put c hats, where c >= 1.\n",
    "\n",
    "That hat only can be seen by other people, not by the wearer.\n",
    "\n",
    "To remove the hat, for the people that have one, they must dunk themselves underwater at exactly midnight.\n",
    "\n",
    "The men cannot tell each other that they have a hat.\n",
    "\n",
    "\n",
    "How long does it take the men to remove the hats?"
   ]
  },
  {
   "cell_type": "markdown",
   "metadata": {},
   "source": [
    "### Understanding the problem"
   ]
  },
  {
   "attachments": {},
   "cell_type": "markdown",
   "metadata": {},
   "source": [
    "- It seems like a problem of logic.\n",
    "- We can think in extreme scenarios, for instance, what happen's if the n people have a hat, so everyone knows that at least n-1 people have a hat.\n",
    "- What is not clear is the question about \"how long does it take\", it's referring to time, but we don't know any measure of time to remove the hat, so there's a trick: Either all the people have a hat or no one...maybe. Also we can refer a symbolic answer like: \"it takes X people dunking on water\". "
   ]
  },
  {
   "attachments": {},
   "cell_type": "markdown",
   "metadata": {},
   "source": [
    "### My approach\n"
   ]
  },
  {
   "attachments": {},
   "cell_type": "markdown",
   "metadata": {},
   "source": [
    "No one knows if have a hat, so the man will decide to dunk...thus, everyone will be dunking, and it will take N people dunking of time."
   ]
  },
  {
   "cell_type": "markdown",
   "metadata": {},
   "source": [
    "### The suggested approach"
   ]
  },
  {
   "cell_type": "markdown",
   "metadata": {},
   "source": []
  },
  {
   "attachments": {},
   "cell_type": "markdown",
   "metadata": {},
   "source": [
    "[summary of the solution]"
   ]
  }
 ],
 "metadata": {
  "language_info": {
   "name": "python"
  },
  "orig_nbformat": 4
 },
 "nbformat": 4,
 "nbformat_minor": 2
}

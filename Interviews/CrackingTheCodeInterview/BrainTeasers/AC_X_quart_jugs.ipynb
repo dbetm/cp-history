{
 "cells": [
  {
   "attachments": {},
   "cell_type": "markdown",
   "metadata": {},
   "source": [
    "## Problem\n",
    "\n",
    "You have a five quart jug (5/4) and a three quart jug (3/4), and an unlimited supply of water\n",
    "(but no measuring cups). How would you come up with exactly four quarts (4/4 -> 1) of water?\n",
    "NOTE: The jugs are oddly shaped, such that filling up exactly ‘half’ of the jug would\n",
    "be impossible."
   ]
  },
  {
   "cell_type": "markdown",
   "metadata": {},
   "source": [
    "### Understanding the problem"
   ]
  },
  {
   "attachments": {},
   "cell_type": "markdown",
   "metadata": {},
   "source": [
    "- Because there is unlimited water (please don't waste water :() so maybe we can overfill some jug.\n",
    "- To the first jug (5/4) has a 4/4 plus 1/4 of water, the second one (3/4) is missing 1/4 to sum up 4/4.\n",
    "- Since we don't have more measuring cups, so we need to use the (5/4) jug to save the (4/4) of water. \n",
    "- If we sum the 5/4 plus 3/4, we got 2, we need the half of that.\n",
    "- The (5/4) jug we'll call A and the another B."
   ]
  },
  {
   "attachments": {},
   "cell_type": "markdown",
   "metadata": {},
   "source": [
    "### My approach\n",
    "\n",
    "1) We fill the (5/4) jug, then we pour the water in the another one jug until it get filled, so we got 1/2 of water in the first one.\n",
    "2) We throw away the water of the (3/4) jug.\n",
    "3) We pour the water from A to B. And mark the level of water at B jug.\n",
    "4) We pour the water back, from B to A. \n",
    "5) Then, we fill up B until the level marked.\n",
    "6) Finally, we pour the water from B to A, and yay, we got 4/4 of water."
   ]
  },
  {
   "cell_type": "markdown",
   "metadata": {},
   "source": [
    "### The suggested approach"
   ]
  },
  {
   "attachments": {},
   "cell_type": "markdown",
   "metadata": {},
   "source": [
    "It's similar, but without usign a marker xD\n",
    "\n",
    "1) Fill A (5/4).\n",
    "2) Fill B (3/4) with A, so A got (2/4).\n",
    "3) Empty B (0/4).\n",
    "4) Fill B with A, so B got (2/4).\n",
    "5) Fill A (5/4).\n",
    "6) Fill up B with A, wo B got (3/4) and A (4/4).\n",
    "7) We are done."
   ]
  },
  {
   "cell_type": "markdown",
   "metadata": {},
   "source": [
    "Note: As long as the 2 jug sizes are relatively prime (i.e. have no common prime factors) you can find a pour sequence for any value between 1 and the sum of the jug sizes."
   ]
  }
 ],
 "metadata": {
  "language_info": {
   "name": "python"
  },
  "orig_nbformat": 4
 },
 "nbformat": 4,
 "nbformat_minor": 2
}
